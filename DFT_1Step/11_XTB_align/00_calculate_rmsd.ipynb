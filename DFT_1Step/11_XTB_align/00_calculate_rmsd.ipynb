{
 "cells": [
  {
   "cell_type": "code",
   "execution_count": 5,
   "id": "2f2c7046",
   "metadata": {},
   "outputs": [
    {
     "name": "stdout",
     "output_type": "stream",
     "text": [
      "✅ RMSD (after Kabsch alignment): 3.8350 Å\n"
     ]
    }
   ],
   "source": [
    "import numpy as np\n",
    "from ase.io import read\n",
    "\n",
    "def kabsch_align(P, Q):\n",
    "    P_cent = P - P.mean(axis=0)\n",
    "    Q_cent = Q - Q.mean(axis=0)\n",
    "    C = np.dot(P_cent.T, Q_cent)\n",
    "    V, S, Wt = np.linalg.svd(C)\n",
    "    d = np.linalg.det(np.dot(Wt.T, V.T))\n",
    "    D = np.identity(3)\n",
    "    D[2, 2] = d\n",
    "    U = np.dot(np.dot(Wt.T, D), V.T)\n",
    "    Q_rot = np.dot(Q_cent, U)\n",
    "    return P_cent, Q_rot\n",
    "\n",
    "def calculate_rmsd(P, Q):\n",
    "    return np.sqrt(((P - Q) ** 2).sum() / len(P))\n",
    "\n",
    "# 파일 경로 설정\n",
    "dir = \"../10_XTB/00_Alanine_zwitterion/\"\n",
    "orifile1 = dir + \"case_001/case_001.xyz\"\n",
    "file1 = dir + \"case_001/xtbopt.xyz\"\n",
    "file2 = dir + \"case_002/xtbopt.xyz\"\n",
    "\n",
    "# ASE로 전체 원자 구조 불러오기\n",
    "atoms_ori = read(orifile1)\n",
    "atoms_opt1 = read(file1)\n",
    "atoms_opt2 = read(file2)\n",
    "\n",
    "# 양쪽성 이온 부분만 슬라이싱 (index 2~14 → Python 기준 0-based이므로 [2:15])\n",
    "ion_ori = atoms_ori[2:15]\n",
    "ion_opt1 = atoms_opt1[2:15]\n",
    "ion_opt2 = atoms_opt2[2:15]\n",
    "\n",
    "# 좌표 추출\n",
    "P = ion_ori.get_positions()\n",
    "Q1 = ion_opt1.get_positions()\n",
    "Q2 = ion_opt2.get_positions()\n",
    "\n",
    "# RMSD 계산\n",
    "P_ref1, Q1_aligned = kabsch_align(P, Q1)\n",
    "rmsd1 = calculate_rmsd(P_ref1, Q1_aligned)\n",
    "\n",
    "P_ref2, Q2_aligned = kabsch_align(P, Q2)\n",
    "rmsd2 = calculate_rmsd(P_ref2, Q2_aligned)\n",
    "\n",
    "print(f\"✅ RMSD(case_001 vs original zwitterion): {rmsd1:.4f} Å\")\n",
    "print(f\"✅ RMSD(case_002 vs original zwitterion): {rmsd2:.4f} Å\")\n"
   ]
  },
  {
   "cell_type": "code",
   "execution_count": 16,
   "id": "4ffbd223",
   "metadata": {},
   "outputs": [
    {
     "name": "stdout",
     "output_type": "stream",
     "text": [
      "Requirement already satisfied: ase in c:\\users\\psid_pc_20\\anaconda3\\lib\\site-packages (3.23.0)\n",
      "Collecting ase\n",
      "  Downloading ase-3.25.0-py3-none-any.whl.metadata (4.2 kB)\n",
      "Requirement already satisfied: numpy>=1.19.5 in c:\\users\\psid_pc_20\\anaconda3\\lib\\site-packages (from ase) (1.26.4)\n",
      "Requirement already satisfied: scipy>=1.6.0 in c:\\users\\psid_pc_20\\anaconda3\\lib\\site-packages (from ase) (1.15.1)\n",
      "Requirement already satisfied: matplotlib>=3.3.4 in c:\\users\\psid_pc_20\\anaconda3\\lib\\site-packages (from ase) (3.9.1)\n",
      "Requirement already satisfied: contourpy>=1.0.1 in c:\\users\\psid_pc_20\\anaconda3\\lib\\site-packages (from matplotlib>=3.3.4->ase) (1.2.1)\n",
      "Requirement already satisfied: cycler>=0.10 in c:\\users\\psid_pc_20\\anaconda3\\lib\\site-packages (from matplotlib>=3.3.4->ase) (0.12.1)\n",
      "Requirement already satisfied: fonttools>=4.22.0 in c:\\users\\psid_pc_20\\anaconda3\\lib\\site-packages (from matplotlib>=3.3.4->ase) (4.53.1)\n",
      "Requirement already satisfied: kiwisolver>=1.3.1 in c:\\users\\psid_pc_20\\anaconda3\\lib\\site-packages (from matplotlib>=3.3.4->ase) (1.4.5)\n",
      "Requirement already satisfied: packaging>=20.0 in c:\\users\\psid_pc_20\\anaconda3\\lib\\site-packages (from matplotlib>=3.3.4->ase) (23.1)\n",
      "Requirement already satisfied: pillow>=8 in c:\\users\\psid_pc_20\\anaconda3\\lib\\site-packages (from matplotlib>=3.3.4->ase) (10.4.0)\n",
      "Requirement already satisfied: pyparsing>=2.3.1 in c:\\users\\psid_pc_20\\anaconda3\\lib\\site-packages (from matplotlib>=3.3.4->ase) (3.1.2)\n",
      "Requirement already satisfied: python-dateutil>=2.7 in c:\\users\\psid_pc_20\\anaconda3\\lib\\site-packages (from matplotlib>=3.3.4->ase) (2.8.2)\n",
      "Requirement already satisfied: six>=1.5 in c:\\users\\psid_pc_20\\anaconda3\\lib\\site-packages (from python-dateutil>=2.7->matplotlib>=3.3.4->ase) (1.16.0)\n",
      "Downloading ase-3.25.0-py3-none-any.whl (3.0 MB)\n",
      "   ---------------------------------------- 0.0/3.0 MB ? eta -:--:--\n",
      "   ---------------------------------------- 0.0/3.0 MB ? eta -:--:--\n",
      "    --------------------------------------- 0.0/3.0 MB 653.6 kB/s eta 0:00:05\n",
      "   - -------------------------------------- 0.1/3.0 MB 1.4 MB/s eta 0:00:02\n",
      "   -- ------------------------------------- 0.2/3.0 MB 1.3 MB/s eta 0:00:03\n",
      "   ---- ----------------------------------- 0.3/3.0 MB 1.7 MB/s eta 0:00:02\n",
      "   ---- ----------------------------------- 0.4/3.0 MB 1.5 MB/s eta 0:00:02\n",
      "   ----- ---------------------------------- 0.4/3.0 MB 1.4 MB/s eta 0:00:02\n",
      "   ----- ---------------------------------- 0.4/3.0 MB 1.4 MB/s eta 0:00:02\n",
      "   ------- -------------------------------- 0.6/3.0 MB 1.5 MB/s eta 0:00:02\n",
      "   -------------- ------------------------- 1.1/3.0 MB 2.5 MB/s eta 0:00:01\n",
      "   ---------------------- ----------------- 1.7/3.0 MB 3.5 MB/s eta 0:00:01\n",
      "   ------------------------------ --------- 2.2/3.0 MB 4.3 MB/s eta 0:00:01\n",
      "   ------------------------------------- -- 2.8/3.0 MB 4.9 MB/s eta 0:00:01\n",
      "   ---------------------------------------- 3.0/3.0 MB 5.0 MB/s eta 0:00:00\n",
      "Installing collected packages: ase\n",
      "  Attempting uninstall: ase\n",
      "    Found existing installation: ase 3.23.0\n",
      "    Uninstalling ase-3.23.0:\n",
      "      Successfully uninstalled ase-3.23.0\n",
      "Successfully installed ase-3.25.0\n",
      "Note: you may need to restart the kernel to use updated packages.\n"
     ]
    }
   ],
   "source": [
    "!pip install --upgrade ase\n"
   ]
  }
 ],
 "metadata": {
  "kernelspec": {
   "display_name": "base",
   "language": "python",
   "name": "python3"
  },
  "language_info": {
   "codemirror_mode": {
    "name": "ipython",
    "version": 3
   },
   "file_extension": ".py",
   "mimetype": "text/x-python",
   "name": "python",
   "nbconvert_exporter": "python",
   "pygments_lexer": "ipython3",
   "version": "3.11.7"
  }
 },
 "nbformat": 4,
 "nbformat_minor": 5
}
