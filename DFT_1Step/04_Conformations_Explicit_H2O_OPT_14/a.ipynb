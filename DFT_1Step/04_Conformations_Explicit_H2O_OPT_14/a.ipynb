{
 "cells": [
  {
   "cell_type": "code",
   "execution_count": 1,
   "id": "506b3c27",
   "metadata": {},
   "outputs": [],
   "source": [
    "import os "
   ]
  },
  {
   "cell_type": "code",
   "execution_count": 4,
   "id": "13757216",
   "metadata": {},
   "outputs": [
    {
     "name": "stdout",
     "output_type": "stream",
     "text": [
      "python ../../../00_generate_orca_input.py ../../../00_base.inp ./Alanine/00_Alanine_zwitterion.xyz Alanine/00_Alanine_zwitterion/00_Alanine_zwitterion.inp\n",
      "python ../../../00_generate_orca_input.py ../../../00_base.inp ./Alanine/01_Alanine_zwitterion.xyz Alanine/01_Alanine_zwitterion/01_Alanine_zwitterion.inp\n",
      "python ../../../00_generate_orca_input.py ../../../00_base.inp ./Alanine/02_Alanine_zwitterion.xyz Alanine/02_Alanine_zwitterion/02_Alanine_zwitterion.inp\n"
     ]
    }
   ],
   "source": [
    "ALANINE_XYZ_PATH = \"./Alanine/\"\n",
    "Aminobutyric_XYZ_PATH = \"./Aminobutyric/\"\n",
    "ALANINE_XYZS = [ x for x in  os.listdir(ALANINE_XYZ_PATH)  if \".xyz\" in x] \n",
    "Aminobutyric_XYZS = [ x for x in  os.listdir(Aminobutyric_XYZ_PATH)  if \".xyz\" in x] \n",
    "BASE_PY = \"../../../00_generate_orca_input.py\"\n",
    "BASE_INP = \"../../../00_base.inp\"\n",
    "for ALANINE_xyz in ALANINE_XYZS:\n",
    "    path = ALANINE_XYZ_PATH + ALANINE_xyz\n",
    "    out = ALANINE_xyz.replace(\".xyz\", \".inp\")\n",
    "    fd = ALANINE_xyz.replace(\".xyz\", \"\")\n",
    "    os.makedirs(f\"Alanine/{fd}\",exist_ok=True)\n",
    "    cmd = f\"python {BASE_PY} {BASE_INP} {path} Alanine/{fd}/{out}\"\n",
    "    print(cmd)\n",
    "    os.system(cmd)\n",
    "# for ALANINE_xyz in Aminobutyric_XYZS:\n",
    "#     path = Aminobutyric_XYZ_PATH + ALANINE_xyz\n",
    "#     out = ALANINE_xyz.replace(\".xyz\", \".inp\")\n",
    "#     fd = ALANINE_xyz.replace(\".xyz\", \"\")\n",
    "#     os.makedirs(f\"Aminobutyric/{fd}\",exist_ok=True)\n",
    "#     cmd = f\"python {BASE_PY} {BASE_INP} {path} Aminobutyric/{fd}/{out}\"\n",
    "#     print(cmd)\n",
    "#     os.system(cmd)"
   ]
  },
  {
   "cell_type": "code",
   "execution_count": 24,
   "id": "fd0b5e21",
   "metadata": {},
   "outputs": [
    {
     "name": "stdout",
     "output_type": "stream",
     "text": [
      "cd Aminobutyric/00_Aminobutyric-acid_zwitterion && /home/yongsang/orca_6_0_1_linux_x86-64_shared_openmpi416/orca 00_Aminobutyric-acid_zwitterion.inp > 00_Aminobutyric-acid_zwitterion.out && cd ../../\n",
      "cd Aminobutyric/01_Aminobutyric-acid_zwitterion && /home/yongsang/orca_6_0_1_linux_x86-64_shared_openmpi416/orca 01_Aminobutyric-acid_zwitterion.inp > 01_Aminobutyric-acid_zwitterion.out && cd ../../\n",
      "cd Aminobutyric/02_Aminobutyric-acid_zwitterion && /home/yongsang/orca_6_0_1_linux_x86-64_shared_openmpi416/orca 02_Aminobutyric-acid_zwitterion.inp > 02_Aminobutyric-acid_zwitterion.out && cd ../../\n",
      "cd Aminobutyric/03_Aminobutyric-acid_zwitterion && /home/yongsang/orca_6_0_1_linux_x86-64_shared_openmpi416/orca 03_Aminobutyric-acid_zwitterion.inp > 03_Aminobutyric-acid_zwitterion.out && cd ../../\n",
      "cd Aminobutyric/04_Aminobutyric-acid_zwitterion && /home/yongsang/orca_6_0_1_linux_x86-64_shared_openmpi416/orca 04_Aminobutyric-acid_zwitterion.inp > 04_Aminobutyric-acid_zwitterion.out && cd ../../\n",
      "cd Aminobutyric/05_Aminobutyric-acid_zwitterion && /home/yongsang/orca_6_0_1_linux_x86-64_shared_openmpi416/orca 05_Aminobutyric-acid_zwitterion.inp > 05_Aminobutyric-acid_zwitterion.out && cd ../../\n",
      "cd Aminobutyric/06_Aminobutyric-acid_zwitterion && /home/yongsang/orca_6_0_1_linux_x86-64_shared_openmpi416/orca 06_Aminobutyric-acid_zwitterion.inp > 06_Aminobutyric-acid_zwitterion.out && cd ../../\n",
      "cd Aminobutyric/07_Aminobutyric-acid_zwitterion && /home/yongsang/orca_6_0_1_linux_x86-64_shared_openmpi416/orca 07_Aminobutyric-acid_zwitterion.inp > 07_Aminobutyric-acid_zwitterion.out && cd ../../\n",
      "cd Aminobutyric/08_Aminobutyric-acid_zwitterion && /home/yongsang/orca_6_0_1_linux_x86-64_shared_openmpi416/orca 08_Aminobutyric-acid_zwitterion.inp > 08_Aminobutyric-acid_zwitterion.out && cd ../../\n"
     ]
    }
   ],
   "source": [
    "for i in  Aminobutyric_XYZS:\n",
    "    path = \"Aminobutyric/\" + i.replace(\".xyz\", \"\")\n",
    "    file = i.replace(\".xyz\", \".inp\")\n",
    "    outfile = i.replace(\".xyz\", \".out\")\n",
    "    cmd = f\"cd {path} && /home/yongsang/orca_6_0_1_linux_x86-64_shared_openmpi416/orca {file} > {outfile} && cd ../../\"\n",
    "    print(cmd)"
   ]
  },
  {
   "cell_type": "code",
   "execution_count": 25,
   "id": "04939803",
   "metadata": {},
   "outputs": [
    {
     "name": "stdout",
     "output_type": "stream",
     "text": [
      "cd Alanine/00_Alanine_zwitterion && /home/yongsang/orca_6_0_1_linux_x86-64_shared_openmpi416/orca 00_Alanine_zwitterion.inp > 00_Alanine_zwitterion.out && cd ../../\n",
      "cd Alanine/01_Alanine_zwitterion && /home/yongsang/orca_6_0_1_linux_x86-64_shared_openmpi416/orca 01_Alanine_zwitterion.inp > 01_Alanine_zwitterion.out && cd ../../\n",
      "cd Alanine/02_Alanine_zwitterion && /home/yongsang/orca_6_0_1_linux_x86-64_shared_openmpi416/orca 02_Alanine_zwitterion.inp > 02_Alanine_zwitterion.out && cd ../../\n",
      "cd Alanine/03_Alanine_zwitterion && /home/yongsang/orca_6_0_1_linux_x86-64_shared_openmpi416/orca 03_Alanine_zwitterion.inp > 03_Alanine_zwitterion.out && cd ../../\n"
     ]
    }
   ],
   "source": [
    "for i in  ALANINE_XYZS:\n",
    "    path = \"Alanine/\" + i.replace(\".xyz\", \"\")\n",
    "    file = i.replace(\".xyz\", \".inp\")\n",
    "    outfile = i.replace(\".xyz\", \".out\")\n",
    "    cmd = f\"cd {path} && /home/yongsang/orca_6_0_1_linux_x86-64_shared_openmpi416/orca {file} > {outfile} && cd ../../\"\n",
    "    print(cmd)"
   ]
  },
  {
   "cell_type": "code",
   "execution_count": null,
   "id": "2cc31751",
   "metadata": {},
   "outputs": [],
   "source": []
  }
 ],
 "metadata": {
  "kernelspec": {
   "display_name": "base",
   "language": "python",
   "name": "python3"
  },
  "language_info": {
   "codemirror_mode": {
    "name": "ipython",
    "version": 3
   },
   "file_extension": ".py",
   "mimetype": "text/x-python",
   "name": "python",
   "nbconvert_exporter": "python",
   "pygments_lexer": "ipython3",
   "version": "3.11.7"
  }
 },
 "nbformat": 4,
 "nbformat_minor": 5
}
